{
 "cells": [
  {
   "cell_type": "code",
   "execution_count": 288,
   "metadata": {},
   "outputs": [],
   "source": [
    "import numpy as np\n",
    "import pandas as pd\n",
    "import matplotlib.pyplot as plt\n",
    "%matplotlib inline"
   ]
  },
  {
   "cell_type": "code",
   "execution_count": 2,
   "metadata": {},
   "outputs": [],
   "source": [
    "data = pd.read_pickle('trainReduced')"
   ]
  },
  {
   "cell_type": "code",
   "execution_count": 3,
   "metadata": {
    "scrolled": true
   },
   "outputs": [
    {
     "data": {
      "text/html": [
       "<div>\n",
       "<style scoped>\n",
       "    .dataframe tbody tr th:only-of-type {\n",
       "        vertical-align: middle;\n",
       "    }\n",
       "\n",
       "    .dataframe tbody tr th {\n",
       "        vertical-align: top;\n",
       "    }\n",
       "\n",
       "    .dataframe thead th {\n",
       "        text-align: right;\n",
       "    }\n",
       "</style>\n",
       "<table border=\"1\" class=\"dataframe\">\n",
       "  <thead>\n",
       "    <tr style=\"text-align: right;\">\n",
       "      <th></th>\n",
       "      <th>qid</th>\n",
       "      <th>question_text</th>\n",
       "      <th>target</th>\n",
       "    </tr>\n",
       "  </thead>\n",
       "  <tbody>\n",
       "    <tr>\n",
       "      <th>1230084</th>\n",
       "      <td>f10da363cb457e4c60c3</td>\n",
       "      <td>Is there any way I can play videos from Google...</td>\n",
       "      <td>0</td>\n",
       "    </tr>\n",
       "    <tr>\n",
       "      <th>1236209</th>\n",
       "      <td>f242c600958872ff5b2f</td>\n",
       "      <td>How do I make it say a certain date on ’their ...</td>\n",
       "      <td>0</td>\n",
       "    </tr>\n",
       "    <tr>\n",
       "      <th>1084571</th>\n",
       "      <td>d48b89e2d8713c72c1cb</td>\n",
       "      <td>Which is the best company for regular rolled o...</td>\n",
       "      <td>0</td>\n",
       "    </tr>\n",
       "    <tr>\n",
       "      <th>598192</th>\n",
       "      <td>752aba52e05a2c7e7f46</td>\n",
       "      <td>How can a Nepali worker from Malaysia go to Si...</td>\n",
       "      <td>0</td>\n",
       "    </tr>\n",
       "    <tr>\n",
       "      <th>864468</th>\n",
       "      <td>a9623a55b06591fb6568</td>\n",
       "      <td>What does it mean when a girl challenges you?</td>\n",
       "      <td>0</td>\n",
       "    </tr>\n",
       "  </tbody>\n",
       "</table>\n",
       "</div>"
      ],
      "text/plain": [
       "                          qid  \\\n",
       "1230084  f10da363cb457e4c60c3   \n",
       "1236209  f242c600958872ff5b2f   \n",
       "1084571  d48b89e2d8713c72c1cb   \n",
       "598192   752aba52e05a2c7e7f46   \n",
       "864468   a9623a55b06591fb6568   \n",
       "\n",
       "                                             question_text  target  \n",
       "1230084  Is there any way I can play videos from Google...       0  \n",
       "1236209  How do I make it say a certain date on ’their ...       0  \n",
       "1084571  Which is the best company for regular rolled o...       0  \n",
       "598192   How can a Nepali worker from Malaysia go to Si...       0  \n",
       "864468       What does it mean when a girl challenges you?       0  "
      ]
     },
     "execution_count": 3,
     "metadata": {},
     "output_type": "execute_result"
    }
   ],
   "source": [
    "data.head()"
   ]
  },
  {
   "cell_type": "code",
   "execution_count": 4,
   "metadata": {},
   "outputs": [],
   "source": [
    "# reseting indexing and removing qid\n",
    "data = data.set_index(np.arange(0,len(data))).loc[:,['question_text','target']]"
   ]
  },
  {
   "cell_type": "code",
   "execution_count": 5,
   "metadata": {},
   "outputs": [
    {
     "data": {
      "text/html": [
       "<div>\n",
       "<style scoped>\n",
       "    .dataframe tbody tr th:only-of-type {\n",
       "        vertical-align: middle;\n",
       "    }\n",
       "\n",
       "    .dataframe tbody tr th {\n",
       "        vertical-align: top;\n",
       "    }\n",
       "\n",
       "    .dataframe thead th {\n",
       "        text-align: right;\n",
       "    }\n",
       "</style>\n",
       "<table border=\"1\" class=\"dataframe\">\n",
       "  <thead>\n",
       "    <tr style=\"text-align: right;\">\n",
       "      <th></th>\n",
       "      <th>question_text</th>\n",
       "      <th>target</th>\n",
       "    </tr>\n",
       "  </thead>\n",
       "  <tbody>\n",
       "    <tr>\n",
       "      <th>0</th>\n",
       "      <td>Is there any way I can play videos from Google...</td>\n",
       "      <td>0</td>\n",
       "    </tr>\n",
       "    <tr>\n",
       "      <th>1</th>\n",
       "      <td>How do I make it say a certain date on ’their ...</td>\n",
       "      <td>0</td>\n",
       "    </tr>\n",
       "    <tr>\n",
       "      <th>2</th>\n",
       "      <td>Which is the best company for regular rolled o...</td>\n",
       "      <td>0</td>\n",
       "    </tr>\n",
       "    <tr>\n",
       "      <th>3</th>\n",
       "      <td>How can a Nepali worker from Malaysia go to Si...</td>\n",
       "      <td>0</td>\n",
       "    </tr>\n",
       "    <tr>\n",
       "      <th>4</th>\n",
       "      <td>What does it mean when a girl challenges you?</td>\n",
       "      <td>0</td>\n",
       "    </tr>\n",
       "  </tbody>\n",
       "</table>\n",
       "</div>"
      ],
      "text/plain": [
       "                                       question_text  target\n",
       "0  Is there any way I can play videos from Google...       0\n",
       "1  How do I make it say a certain date on ’their ...       0\n",
       "2  Which is the best company for regular rolled o...       0\n",
       "3  How can a Nepali worker from Malaysia go to Si...       0\n",
       "4      What does it mean when a girl challenges you?       0"
      ]
     },
     "execution_count": 5,
     "metadata": {},
     "output_type": "execute_result"
    }
   ],
   "source": [
    "data.head()"
   ]
  },
  {
   "cell_type": "markdown",
   "metadata": {},
   "source": [
    "# Tokenizing\n",
    " Using regex tokenizer - all except letters and numbers is removed."
   ]
  },
  {
   "cell_type": "markdown",
   "metadata": {},
   "source": [
    "### Single words"
   ]
  },
  {
   "cell_type": "code",
   "execution_count": 6,
   "metadata": {},
   "outputs": [],
   "source": [
    "import nltk"
   ]
  },
  {
   "cell_type": "code",
   "execution_count": 13,
   "metadata": {},
   "outputs": [],
   "source": [
    "tok = nltk.RegexpTokenizer('\\w+')"
   ]
  },
  {
   "cell_type": "code",
   "execution_count": 252,
   "metadata": {},
   "outputs": [],
   "source": [
    "tokens = []\n",
    "for i in data.iloc[:,0]:\n",
    "    tokens.append(tok.tokenize(i))"
   ]
  },
  {
   "cell_type": "code",
   "execution_count": 254,
   "metadata": {
    "scrolled": true
   },
   "outputs": [
    {
     "name": "stdout",
     "output_type": "stream",
     "text": [
      "Is there any way I can play videos from Google Drive on a VLC media player on Android? Preferably, Google Drive videos that I store locally, too.\n",
      "How do I make it say a certain date on ’their notifications?\n",
      "Which is the best company for regular rolled oats?\n",
      "How can a Nepali worker from Malaysia go to Singapore for work?\n",
      "What does it mean when a girl challenges you?\n"
     ]
    }
   ],
   "source": [
    "#questions\n",
    "for i in data.iloc[0:5,0]:\n",
    "    print(i)"
   ]
  },
  {
   "cell_type": "code",
   "execution_count": 256,
   "metadata": {
    "scrolled": true
   },
   "outputs": [
    {
     "name": "stdout",
     "output_type": "stream",
     "text": [
      "[['Is', 'there', 'any', 'way', 'I', 'can', 'play', 'videos', 'from', 'Google', 'Drive', 'on', 'a', 'VLC', 'media', 'player', 'on', 'Android', 'Preferably', 'Google', 'Drive', 'videos', 'that', 'I', 'store', 'locally', 'too'], ['How', 'do', 'I', 'make', 'it', 'say', 'a', 'certain', 'date', 'on', 'their', 'notifications'], ['Which', 'is', 'the', 'best', 'company', 'for', 'regular', 'rolled', 'oats'], ['How', 'can', 'a', 'Nepali', 'worker', 'from', 'Malaysia', 'go', 'to', 'Singapore', 'for', 'work'], ['What', 'does', 'it', 'mean', 'when', 'a', 'girl', 'challenges', 'you']]\n"
     ]
    }
   ],
   "source": [
    "#only single words are kept\n",
    "print(tokens[0:5])"
   ]
  },
  {
   "cell_type": "code",
   "execution_count": 265,
   "metadata": {},
   "outputs": [],
   "source": [
    "#getting all tokens into single list, lowercased\n",
    "tokens2 = []\n",
    "for i in tokens:\n",
    "    for j in i:\n",
    "        tokens2.append(j.lower())"
   ]
  },
  {
   "cell_type": "code",
   "execution_count": 275,
   "metadata": {},
   "outputs": [
    {
     "name": "stdout",
     "output_type": "stream",
     "text": [
      "['is', 'there', 'any', 'way', 'i', 'can', 'play', 'videos', 'from', 'google', 'drive', 'on', 'a', 'vlc', 'media', 'player', 'on', 'android', 'preferably', 'google', 'drive', 'videos', 'that', 'i', 'store', 'locally', 'too', 'how', 'do', 'i', 'make', 'it', 'say', 'a', 'certain', 'date', 'on', 'their', 'notifications', 'which', 'is', 'the', 'best', 'company', 'for', 'regular', 'rolled', 'oats', 'how', 'can']\n",
      "2603098\n"
     ]
    }
   ],
   "source": [
    "print(tokens2[0:50])\n",
    "print(len(tokens2))"
   ]
  },
  {
   "cell_type": "code",
   "execution_count": 270,
   "metadata": {},
   "outputs": [],
   "source": [
    "#removing stopwords\n",
    "from nltk.corpus import stopwords\n",
    "tokens3 = []\n",
    "for i in tokens2:\n",
    "    if i not in stopwords.words('english'):\n",
    "        tokens3.append(i)"
   ]
  },
  {
   "cell_type": "code",
   "execution_count": 274,
   "metadata": {},
   "outputs": [
    {
     "name": "stdout",
     "output_type": "stream",
     "text": [
      "['way', 'play', 'videos', 'google', 'drive', 'vlc', 'media', 'player', 'android', 'preferably', 'google', 'drive', 'videos', 'store', 'locally', 'make', 'say', 'certain', 'date', 'notifications', 'best', 'company', 'regular', 'rolled', 'oats', 'nepali', 'worker', 'malaysia', 'go', 'singapore', 'work', 'mean', 'girl', 'challenges', 'would', 'individual', 'feel', 'constantly', 'threatened', 'presence', 'person', 'remedy', 'ever', 'dumped', 'good', 'person', 'good', 'friend', 'good', 'reason']\n",
      "1306067\n"
     ]
    }
   ],
   "source": [
    "print(tokens3[0:50])\n",
    "print(len(tokens3))"
   ]
  },
  {
   "cell_type": "code",
   "execution_count": 277,
   "metadata": {},
   "outputs": [],
   "source": [
    "#pickling, since it took some 20 mins\n",
    "import pickle\n",
    "file1 = open('tokens3.data', 'wb')\n",
    "pickle.dump(tokens3, file1)\n",
    "file1.close()"
   ]
  },
  {
   "cell_type": "code",
   "execution_count": 511,
   "metadata": {},
   "outputs": [],
   "source": [
    "#pos tagging\n",
    "tokens4 = nltk.pos_tag(tokens3)"
   ]
  },
  {
   "cell_type": "code",
   "execution_count": 512,
   "metadata": {},
   "outputs": [
    {
     "name": "stdout",
     "output_type": "stream",
     "text": [
      "[('way', 'NN'), ('play', 'NN'), ('videos', 'FW'), ('google', 'NN'), ('drive', 'NN'), ('vlc', 'NN'), ('media', 'NNS'), ('player', 'NN'), ('android', 'NN'), ('preferably', 'RB')]\n",
      "1306067\n"
     ]
    }
   ],
   "source": [
    "print(tokens4[0:10])\n",
    "print(len(tokens4))"
   ]
  },
  {
   "cell_type": "code",
   "execution_count": 513,
   "metadata": {},
   "outputs": [],
   "source": [
    "#stemming \n",
    "ps = nltk.stem.PorterStemmer()\n",
    "tokens5 = []\n",
    "for i in tokens4:\n",
    "    tokens5.append((ps.stem(i[0]),i[1]))"
   ]
  },
  {
   "cell_type": "code",
   "execution_count": 514,
   "metadata": {},
   "outputs": [
    {
     "name": "stdout",
     "output_type": "stream",
     "text": [
      "[('way', 'NN'), ('play', 'NN'), ('video', 'FW'), ('googl', 'NN'), ('drive', 'NN'), ('vlc', 'NN'), ('media', 'NNS'), ('player', 'NN'), ('android', 'NN'), ('prefer', 'RB'), ('googl', 'JJ'), ('drive', 'NN'), ('video', 'NNS'), ('store', 'VBP'), ('local', 'RB'), ('make', 'VBP'), ('say', 'VBP'), ('certain', 'JJ'), ('date', 'NN'), ('notif', 'NNS'), ('best', 'JJS'), ('compani', 'NN'), ('regular', 'JJ'), ('roll', 'VBD'), ('oat', 'NNS'), ('nepali', 'JJ'), ('worker', 'NN'), ('malaysia', 'NN'), ('go', 'VBP'), ('singapor', 'RB'), ('work', 'NN'), ('mean', 'JJ'), ('girl', 'NN'), ('challeng', 'NNS'), ('would', 'MD'), ('individu', 'VB'), ('feel', 'VB'), ('constantli', 'RB'), ('threaten', 'VBN'), ('presenc', 'NN'), ('person', 'NN'), ('remedi', 'NN'), ('ever', 'RB'), ('dump', 'VBD'), ('good', 'JJ'), ('person', 'NN'), ('good', 'JJ'), ('friend', 'NN'), ('good', 'JJ'), ('reason', 'NN')]\n",
      "1306067\n"
     ]
    }
   ],
   "source": [
    "print(tokens5[0:50])\n",
    "print(len(tokens5))"
   ]
  },
  {
   "cell_type": "code",
   "execution_count": 516,
   "metadata": {},
   "outputs": [
    {
     "name": "stdout",
     "output_type": "stream",
     "text": [
      "108420\n"
     ]
    }
   ],
   "source": [
    "#checking token frequencies\n",
    "fd1 = nltk.FreqDist(tokens5)\n",
    "print(len(fd1))\n",
    "#returned 108420 unique tokens"
   ]
  },
  {
   "cell_type": "code",
   "execution_count": 517,
   "metadata": {
    "scrolled": false
   },
   "outputs": [
    {
     "data": {
      "image/png": "[encoded data removed]",
      "text/plain": [
       "<Figure size 432x288 with 1 Axes>"
      ]
     },
     "metadata": {
      "needs_background": "light"
     },
     "output_type": "display_data"
    }
   ],
   "source": [
    "#40 tokens with most occurences\n",
    "#looks ok\n",
    "fd1.plot(30)"
   ]
  },
  {
   "cell_type": "code",
   "execution_count": 523,
   "metadata": {},
   "outputs": [
    {
     "name": "stdout",
     "output_type": "stream",
     "text": [
      "13260\n"
     ]
    }
   ],
   "source": [
    "#removing tokens with total frequency less than 10 - building single words vocabulary\n",
    "fd2 = {k:v for k,v in fd1.items() if v > 10}\n",
    "print(len(fd2))\n",
    "#leaves us with total of 13260 words"
   ]
  },
  {
   "cell_type": "code",
   "execution_count": 524,
   "metadata": {},
   "outputs": [],
   "source": [
    "#actual vocabulary\n",
    "voc_single = list(fd2.keys())"
   ]
  },
  {
   "cell_type": "code",
   "execution_count": 527,
   "metadata": {},
   "outputs": [],
   "source": [
    "#pickling\n",
    "file2 = open('voc_single.data', 'wb')\n",
    "pickle.dump(voc_single, file2)\n",
    "file2.close()"
   ]
  },
  {
   "cell_type": "markdown",
   "metadata": {},
   "source": [
    "### Bigrams"
   ]
  },
  {
   "cell_type": "code",
   "execution_count": 531,
   "metadata": {},
   "outputs": [],
   "source": [
    "bigrams = list(nltk.bigrams(tokens5))"
   ]
  },
  {
   "cell_type": "code",
   "execution_count": 534,
   "metadata": {},
   "outputs": [
    {
     "name": "stdout",
     "output_type": "stream",
     "text": [
      "[(('way', 'NN'), ('play', 'NN')), (('play', 'NN'), ('video', 'FW')), (('video', 'FW'), ('googl', 'NN')), (('googl', 'NN'), ('drive', 'NN')), (('drive', 'NN'), ('vlc', 'NN')), (('vlc', 'NN'), ('media', 'NNS')), (('media', 'NNS'), ('player', 'NN')), (('player', 'NN'), ('android', 'NN')), (('android', 'NN'), ('prefer', 'RB')), (('prefer', 'RB'), ('googl', 'JJ')), (('googl', 'JJ'), ('drive', 'NN')), (('drive', 'NN'), ('video', 'NNS')), (('video', 'NNS'), ('store', 'VBP')), (('store', 'VBP'), ('local', 'RB')), (('local', 'RB'), ('make', 'VBP')), (('make', 'VBP'), ('say', 'VBP')), (('say', 'VBP'), ('certain', 'JJ')), (('certain', 'JJ'), ('date', 'NN')), (('date', 'NN'), ('notif', 'NNS')), (('notif', 'NNS'), ('best', 'JJS'))]\n",
      "1306066\n"
     ]
    }
   ],
   "source": [
    "print(bigrams[0:20])\n",
    "print(len(bigrams))"
   ]
  },
  {
   "cell_type": "code",
   "execution_count": 675,
   "metadata": {},
   "outputs": [],
   "source": [
    "#calculating how good bigrams are, using chi square\n",
    "finder = nltk.BigramCollocationFinder.from_words(tokens5)"
   ]
  },
  {
   "cell_type": "code",
   "execution_count": 682,
   "metadata": {},
   "outputs": [],
   "source": [
    "#using only bigrams with total frequency above 10\n",
    "finder.apply_freq_filter(10)"
   ]
  },
  {
   "cell_type": "code",
   "execution_count": 683,
   "metadata": {},
   "outputs": [],
   "source": [
    "#actual chi square scores\n",
    "scores = finder.score_ngrams(nltk.BigramAssocMeasures.chi_sq)"
   ]
  },
  {
   "cell_type": "code",
   "execution_count": 684,
   "metadata": {},
   "outputs": [
    {
     "data": {
      "text/plain": [
       "[((('greenlit', 'JJ'), ('backstori', 'JJ')), 1205599.3846069034),\n",
       " ((('elon', 'NN'), ('musk', 'NN')), 958538.2378249611),\n",
       " ((('myer', 'NNS'), ('brigg', 'VBP')), 725588.3332993039),\n",
       " ((('stormi', 'NN'), ('daniel', 'NNS')), 687398.9473321527),\n",
       " ((('pro', 'NNS'), ('con', 'NNS')), 662381.2550300503)]"
      ]
     },
     "execution_count": 684,
     "metadata": {},
     "output_type": "execute_result"
    }
   ],
   "source": [
    "scores[0:5]"
   ]
  },
  {
   "cell_type": "code",
   "execution_count": 685,
   "metadata": {},
   "outputs": [
    {
     "data": {
      "text/plain": [
       "4922"
      ]
     },
     "execution_count": 685,
     "metadata": {},
     "output_type": "execute_result"
    }
   ],
   "source": [
    "#only 4922 bigrams appear more than 10 times\n",
    "len(scores)"
   ]
  },
  {
   "cell_type": "code",
   "execution_count": 686,
   "metadata": {},
   "outputs": [],
   "source": [
    "#plotting bigram collocation strengths\n",
    "xs = []\n",
    "for i in scores:\n",
    "    xs.append(i[1])"
   ]
  },
  {
   "cell_type": "code",
   "execution_count": 736,
   "metadata": {
    "scrolled": true
   },
   "outputs": [
    {
     "data": {
      "text/plain": [
       "[<matplotlib.lines.Line2D at 0x26079de37b8>]"
      ]
     },
     "execution_count": 736,
     "metadata": {},
     "output_type": "execute_result"
    },
    {
     "data": {
      "image/png": "[encoded data removed]",
      "text/plain": [
       "<Figure size 432x288 with 1 Axes>"
      ]
     },
     "metadata": {
      "needs_background": "light"
     },
     "output_type": "display_data"
    }
   ],
   "source": [
    "#it is difficult to see much from this graph\n",
    "plt.plot(np.arange(0,len(scores)),xs)"
   ]
  },
  {
   "cell_type": "code",
   "execution_count": 737,
   "metadata": {
    "scrolled": true
   },
   "outputs": [
    {
     "data": {
      "text/plain": [
       "[<matplotlib.lines.Line2D at 0x26079d439b0>]"
      ]
     },
     "execution_count": 737,
     "metadata": {},
     "output_type": "execute_result"
    },
    {
     "data": {
      "image/png": "[encoded data removed]",
      "text/plain": [
       "<Figure size 432x288 with 1 Axes>"
      ]
     },
     "metadata": {
      "needs_background": "light"
     },
     "output_type": "display_data"
    }
   ],
   "source": [
    "#scaling down\n",
    "plt.plot(np.arange(3000,len(scores)),xs[3000:])\n",
    "#all these still have relatively high chi square score, based on degrees of freedom = 1"
   ]
  },
  {
   "cell_type": "code",
   "execution_count": 742,
   "metadata": {},
   "outputs": [
    {
     "name": "stdout",
     "output_type": "stream",
     "text": [
      "(('peopl', 'NNS'), ('bad', 'JJ'))\n",
      "(('person', 'NN'), ('think', 'VBP'))\n",
      "(('good', 'JJ'), ('life', 'NN'))\n",
      "(('life', 'NN'), ('time', 'NN'))\n",
      "(('think', 'VBP'), ('like', 'IN'))\n",
      "(('countri', 'NN'), ('one', 'CD'))\n",
      "(('manag', 'NN'), ('would', 'MD'))\n",
      "(('student', 'NN'), ('best', 'JJS'))\n",
      "(('good', 'JJ'), ('money', 'NN'))\n",
      "(('like', 'IN'), ('want', 'VBP'))\n",
      "(('student', 'NN'), ('would', 'MD'))\n",
      "(('peopl', 'NNS'), ('high', 'JJ'))\n",
      "(('much', 'JJ'), ('one', 'CD'))\n",
      "(('india', 'NN'), ('peopl', 'NNS'))\n",
      "(('like', 'IN'), ('know', 'VBP'))\n",
      "(('would', 'MD'), ('differ', 'JJ'))\n",
      "(('sex', 'NN'), ('would', 'MD'))\n",
      "(('make', 'VBP'), ('one', 'CD'))\n",
      "(('peopl', 'NNS'), ('life', 'NN'))\n",
      "(('time', 'NN'), ('think', 'VBP'))\n",
      "(('like', 'IN'), ('ever', 'RB'))\n",
      "(('know', 'VBP'), ('best', 'JJS'))\n",
      "(('like', 'IN'), ('5', 'CD'))\n",
      "(('peopl', 'NNS'), ('black', 'JJ'))\n",
      "(('get', 'VB'), ('best', 'JJS'))\n",
      "(('time', 'NN'), ('one', 'CD'))\n",
      "(('peopl', 'NNS'), ('money', 'NN'))\n",
      "(('us', 'PRP'), ('peopl', 'NNS'))\n",
      "(('ever', 'RB'), ('time', 'NN'))\n",
      "(('like', 'IN'), ('possibl', 'JJ'))\n",
      "(('peopl', 'NNS'), ('us', 'PRP'))\n",
      "(('like', 'IN'), ('use', 'NN'))\n",
      "(('countri', 'NN'), ('good', 'JJ'))\n",
      "(('think', 'VBP'), ('get', 'VB'))\n",
      "(('like', 'IN'), ('make', 'VBP'))\n",
      "(('2017', 'CD'), ('peopl', 'NNS'))\n",
      "(('possibl', 'JJ'), ('one', 'CD'))\n",
      "(('work', 'NN'), ('one', 'CD'))\n",
      "(('way', 'NN'), ('think', 'VBP'))\n",
      "(('languag', 'NN'), ('would', 'MD'))\n",
      "(('one', 'CD'), ('good', 'JJ'))\n",
      "(('get', 'VBP'), ('one', 'CD'))\n",
      "(('want', 'VBP'), ('peopl', 'NNS'))\n",
      "(('market', 'NN'), ('would', 'MD'))\n",
      "(('2', 'CD'), ('best', 'JJS'))\n",
      "(('work', 'NN'), ('would', 'MD'))\n",
      "(('someon', 'NN'), ('good', 'JJ'))\n",
      "(('2', 'CD'), ('peopl', 'NNS'))\n",
      "(('us', 'PRP'), ('good', 'JJ'))\n",
      "(('countri', 'NN'), ('peopl', 'NNS'))\n",
      "(('person', 'NN'), ('peopl', 'NNS'))\n",
      "(('know', 'VBP'), ('good', 'JJ'))\n",
      "(('peopl', 'NNS'), ('would', 'MD'))\n",
      "(('india', 'NN'), ('good', 'JJ'))\n",
      "(('job', 'NN'), ('good', 'JJ'))\n",
      "(('think', 'VBP'), ('life', 'NN'))\n",
      "(('peopl', 'NNS'), ('use', 'VBG'))\n",
      "(('colleg', 'NN'), ('would', 'MD'))\n",
      "(('time', 'NN'), ('someon', 'NN'))\n",
      "(('use', 'NN'), ('best', 'JJS'))\n",
      "(('peopl', 'NNS'), ('ever', 'RB'))\n",
      "(('think', 'VBP'), ('would', 'MD'))\n",
      "(('thing', 'NN'), ('peopl', 'NNS'))\n",
      "(('busi', 'NN'), ('would', 'MD'))\n",
      "(('time', 'NN'), ('like', 'IN'))\n",
      "(('would', 'MD'), ('realli', 'RB'))\n",
      "(('would', 'MD'), ('us', 'PRP'))\n",
      "(('get', 'NN'), ('peopl', 'NNS'))\n",
      "(('life', 'NN'), ('someon', 'NN'))\n",
      "(('time', 'NN'), ('good', 'JJ'))\n",
      "(('old', 'JJ'), ('would', 'MD'))\n",
      "(('like', 'IN'), ('job', 'NN'))\n",
      "(('new', 'JJ'), ('peopl', 'NNS'))\n",
      "(('real', 'JJ'), ('would', 'MD'))\n",
      "(('would', 'MD'), ('men', 'NNS'))\n",
      "(('like', 'IN'), ('mani', 'JJ'))\n",
      "(('someon', 'NN'), ('would', 'MD'))\n",
      "(('like', 'IN'), ('best', 'JJS'))\n",
      "(('engin', 'NN'), ('would', 'MD'))\n",
      "(('possibl', 'JJ'), ('peopl', 'NNS'))\n",
      "(('job', 'NN'), ('best', 'JJS'))\n",
      "(('job', 'NN'), ('would', 'MD'))\n",
      "(('best', 'JJS'), ('school', 'NN'))\n",
      "(('possibl', 'JJ'), ('would', 'MD'))\n",
      "(('get', 'VBP'), ('mani', 'JJ'))\n",
      "(('year', 'NN'), ('would', 'MD'))\n",
      "(('women', 'NNS'), ('would', 'MD'))\n",
      "(('world', 'NN'), ('one', 'CD'))\n",
      "(('get', 'VB'), ('one', 'CD'))\n",
      "(('world', 'NN'), ('peopl', 'NNS'))\n",
      "(('busi', 'NN'), ('peopl', 'NNS'))\n",
      "(('year', 'NN'), ('good', 'JJ'))\n",
      "(('work', 'NN'), ('best', 'JJS'))\n",
      "(('like', 'IN'), ('much', 'JJ'))\n",
      "(('one', 'CD'), ('life', 'NN'))\n",
      "(('job', 'NN'), ('like', 'IN'))\n",
      "(('india', 'NN'), ('like', 'IN'))\n",
      "(('person', 'NN'), ('best', 'JJS'))\n",
      "(('one', 'CD'), ('ever', 'RB'))\n"
     ]
    }
   ],
   "source": [
    "#printing last 100 to see if they make sense\n",
    "for i in scores[-100:-1]:\n",
    "    print(i[0])\n",
    "#they seem ok more or less\n",
    "#so i will put all bigrams with frequency greater than 10 into bigram vocabulary"
   ]
  },
  {
   "cell_type": "code",
   "execution_count": 743,
   "metadata": {},
   "outputs": [],
   "source": [
    "voc_bigrams = []\n",
    "for i in scores:\n",
    "    voc_bigrams.append(i[0])\n",
    "file3 = open('voc_bigrams', 'wb')\n",
    "pickle.dump(voc_bigrams, file3)\n",
    "file3.close()"
   ]
  },
  {
   "cell_type": "markdown",
   "metadata": {},
   "source": [
    "### Trigrams"
   ]
  },
  {
   "cell_type": "code",
   "execution_count": 744,
   "metadata": {},
   "outputs": [],
   "source": [
    "trigrams = list(nltk.trigrams(tokens5))"
   ]
  },
  {
   "cell_type": "code",
   "execution_count": 746,
   "metadata": {},
   "outputs": [
    {
     "name": "stdout",
     "output_type": "stream",
     "text": [
      "[(('way', 'NN'), ('play', 'NN'), ('video', 'FW')), (('play', 'NN'), ('video', 'FW'), ('googl', 'NN')), (('video', 'FW'), ('googl', 'NN'), ('drive', 'NN')), (('googl', 'NN'), ('drive', 'NN'), ('vlc', 'NN')), (('drive', 'NN'), ('vlc', 'NN'), ('media', 'NNS')), (('vlc', 'NN'), ('media', 'NNS'), ('player', 'NN')), (('media', 'NNS'), ('player', 'NN'), ('android', 'NN')), (('player', 'NN'), ('android', 'NN'), ('prefer', 'RB')), (('android', 'NN'), ('prefer', 'RB'), ('googl', 'JJ')), (('prefer', 'RB'), ('googl', 'JJ'), ('drive', 'NN')), (('googl', 'JJ'), ('drive', 'NN'), ('video', 'NNS')), (('drive', 'NN'), ('video', 'NNS'), ('store', 'VBP')), (('video', 'NNS'), ('store', 'VBP'), ('local', 'RB')), (('store', 'VBP'), ('local', 'RB'), ('make', 'VBP')), (('local', 'RB'), ('make', 'VBP'), ('say', 'VBP')), (('make', 'VBP'), ('say', 'VBP'), ('certain', 'JJ')), (('say', 'VBP'), ('certain', 'JJ'), ('date', 'NN')), (('certain', 'JJ'), ('date', 'NN'), ('notif', 'NNS')), (('date', 'NN'), ('notif', 'NNS'), ('best', 'JJS')), (('notif', 'NNS'), ('best', 'JJS'), ('compani', 'NN'))]\n",
      "1306065\n"
     ]
    }
   ],
   "source": [
    "print(trigrams[0:20])\n",
    "print(len(trigrams))"
   ]
  },
  {
   "cell_type": "code",
   "execution_count": 778,
   "metadata": {},
   "outputs": [],
   "source": [
    "finder2 = nltk.TrigramCollocationFinder.from_words(tokens5)"
   ]
  },
  {
   "cell_type": "code",
   "execution_count": 779,
   "metadata": {},
   "outputs": [],
   "source": [
    "#using only trigrams with total frequency above 5\n",
    "# reducing this number to keep more trigrams, since they offer some info on word order\n",
    "# bad ones will be eliminated by chi-square\n",
    "finder2.apply_freq_filter(5)"
   ]
  },
  {
   "cell_type": "code",
   "execution_count": 780,
   "metadata": {},
   "outputs": [],
   "source": [
    "#using pmi since chi sq has some error i cant find in documentation or forums\n",
    "scores2 = finder2.score_ngrams(nltk.TrigramAssocMeasures.chi_sq)"
   ]
  },
  {
   "cell_type": "code",
   "execution_count": 781,
   "metadata": {},
   "outputs": [
    {
     "data": {
      "text/plain": [
       "1129"
      ]
     },
     "execution_count": 781,
     "metadata": {},
     "output_type": "execute_result"
    }
   ],
   "source": [
    "len(scores2)"
   ]
  },
  {
   "cell_type": "code",
   "execution_count": 782,
   "metadata": {
    "scrolled": false
   },
   "outputs": [
    {
     "data": {
      "text/plain": [
       "[((('bhk', 'NN'), ('flat', 'NNS'), ('rent', 'VBP')), 24007713138.078873),\n",
       " ((('uefa', 'JJ'), ('champion', 'NNS'), ('leagu', 'VBP')), 10824313726.651344),\n",
       " ((('stand', 'VBG'), ('tradit', 'NNS'), ('undergradu', 'NNS')),\n",
       "  4522454933.333738),\n",
       " ((('kim', 'NN'), ('jong', 'NN'), ('un', 'JJ')), 3423475941.4013624),\n",
       " ((('georg', 'NN'), ('w', 'VBD'), ('bush', 'JJ')), 3220415086.480294),\n",
       " ((('kim', 'VB'), ('jong', 'JJ'), ('un', 'JJ')), 2779194103.6445336),\n",
       " ((('greenlit', 'JJ'), ('backstori', 'JJ'), ('movi', 'NN')),\n",
       "  1922582144.6330757),\n",
       " ((('asp', 'JJ'), ('net', 'JJ'), ('mvc', 'NN')), 1607334244.6551964),\n",
       " ((('bit', 'NNS'), ('pilani', 'VBP'), ('pilani', 'JJ')), 1099627538.6877294),\n",
       " ((('kim', 'VBP'), ('jong', 'JJ'), ('un', 'JJ')), 1072082664.5234003),\n",
       " ((('tourist', 'JJ'), ('spot', 'NNS'), ('visit', 'VBP')), 935084711.4136411),\n",
       " ((('math', 'NN'), ('displaystyl', 'NN'), ('int_', 'VBZ')), 923166493.3002375),\n",
       " ((('appl', 'NN'), ('cider', 'NN'), ('vinegar', 'NN')), 837760973.4342791),\n",
       " ((('competit', 'JJ'), ('strateg', 'RB'), ('meet', 'JJ')), 738830124.8359286),\n",
       " ((('strateg', 'RB'), ('meet', 'JJ'), ('goal', 'NNS')), 662399421.5183107),\n",
       " ((('evolv', 'RB'), ('strateg', 'JJ'), ('object', 'NNS')), 662029228.1643422),\n",
       " ((('controversi', 'JJ'), ('event', 'NNS'), ('mention', 'VBN')),\n",
       "  660403213.6851306),\n",
       " ((('breakfast', 'NN'), ('lunch', 'NN'), ('dinner', 'NN')),\n",
       "  510882266.62779665),\n",
       " ((('pilani', 'VBP'), ('pilani', 'JJ'), ('campu', 'NN')), 510236270.20438135),\n",
       " ((('lewi', 'JJ'), ('dot', 'NN'), ('structur', 'NN')), 449997387.57524616),\n",
       " ((('six', 'CD'), ('pack', 'NN'), ('ab', 'NNS')), 439176513.0926601),\n",
       " ((('organ', 'NNS'), ('club', 'VBP'), ('join', 'JJ')), 428552124.65718746),\n",
       " ((('consider', 'NN'), ('write', 'VBG'), ('biographi', 'NN')),\n",
       "  413018853.3851097),\n",
       " ((('get', 'VB'), ('greenlit', 'JJ'), ('backstori', 'JJ')), 403122061.8549809),\n",
       " ((('shiv', 'NN'), ('nadar', 'NN'), ('univers', 'NN')), 395975760.9581889),\n",
       " ((('extra', 'JJ'), ('curricular', 'JJ'), ('activ', 'NNS')),\n",
       "  387929710.04006994),\n",
       " ((('barack', 'NN'), ('hussein', 'NN'), ('obama', 'NN')), 384423741.51771736),\n",
       " ((('aveng', 'NNS'), ('infin', 'VBP'), ('war', 'NN')), 369953034.22239685),\n",
       " ((('kim', 'NN'), ('jong', 'JJ'), ('un', 'JJ')), 324456695.89970845),\n",
       " ((('inject', 'NN'), ('mold', 'VBG'), ('machin', 'NN')), 277072098.6498081)]"
      ]
     },
     "execution_count": 782,
     "metadata": {},
     "output_type": "execute_result"
    }
   ],
   "source": [
    "#they mostly make sense, although there are some issues - kim jong un\n",
    "scores2[0:30]"
   ]
  },
  {
   "cell_type": "code",
   "execution_count": 783,
   "metadata": {},
   "outputs": [],
   "source": [
    "#plotting chis\n",
    "xs2 = []\n",
    "for i in scores2:\n",
    "    xs2.append(i[1])"
   ]
  },
  {
   "cell_type": "code",
   "execution_count": 784,
   "metadata": {
    "scrolled": true
   },
   "outputs": [
    {
     "data": {
      "text/plain": [
       "[<matplotlib.lines.Line2D at 0x2607dc1b080>]"
      ]
     },
     "execution_count": 784,
     "metadata": {},
     "output_type": "execute_result"
    },
    {
     "data": {
      "image/png": "[encoded data removed]",
      "text/plain": [
       "<Figure size 432x288 with 1 Axes>"
      ]
     },
     "metadata": {
      "needs_background": "light"
     },
     "output_type": "display_data"
    }
   ],
   "source": [
    "plt.plot(np.arange(0,len(scores2)), xs2)"
   ]
  },
  {
   "cell_type": "code",
   "execution_count": 791,
   "metadata": {},
   "outputs": [
    {
     "data": {
      "text/plain": [
       "[<matplotlib.lines.Line2D at 0x2601bc47cf8>]"
      ]
     },
     "execution_count": 791,
     "metadata": {},
     "output_type": "execute_result"
    },
    {
     "data": {
      "image/png": "[encoded data removed]",
      "text/plain": [
       "<Figure size 432x288 with 1 Axes>"
      ]
     },
     "metadata": {
      "needs_background": "light"
     },
     "output_type": "display_data"
    }
   ],
   "source": [
    "#rescaling\n",
    "plt.plot(np.arange(1100,len(scores2)), xs2[1100:])"
   ]
  },
  {
   "cell_type": "code",
   "execution_count": 793,
   "metadata": {},
   "outputs": [
    {
     "name": "stdout",
     "output_type": "stream",
     "text": [
      "(('two', 'CD'), ('differ', 'JJ'), ('thing', 'NNS'))\n",
      "(('3', 'CD'), ('1', 'CD'), ('2', 'CD'))\n",
      "(('good', 'JJ'), ('book', 'NNS'), ('learn', 'VBP'))\n",
      "(('look', 'NN'), ('like', 'IN'), ('best', 'JJS'))\n",
      "(('one', 'CD'), ('get', 'NN'), ('rid', 'JJ'))\n",
      "(('everi', 'DT'), ('day', 'NN'), ('life', 'NN'))\n",
      "(('money', 'NN'), ('onlin', 'NN'), ('without', 'IN'))\n",
      "(('mani', 'JJ'), ('peopl', 'NNS'), ('ask', 'VBP'))\n",
      "(('student', 'NN'), ('get', 'VB'), ('job', 'NN'))\n",
      "(('experi', 'NN'), ('2', 'CD'), ('year', 'NNS'))\n",
      "(('peopl', 'NNS'), ('act', 'VBP'), ('like', 'IN'))\n",
      "(('peopl', 'NNS'), ('still', 'RB'), ('believ', 'VBP'))\n",
      "(('first', 'JJ'), ('year', 'NN'), ('engin', 'NN'))\n",
      "(('much', 'JJ'), ('money', 'NN'), ('would', 'MD'))\n",
      "(('best', 'JJS'), ('place', 'NN'), ('find', 'VBP'))\n",
      "(('10', 'CD'), ('3', 'CD'), ('1', 'CD'))\n",
      "(('1', 'CD'), ('2', 'CD'), ('2', 'CD'))\n",
      "(('real', 'JJ'), ('life', 'NN'), ('would', 'MD'))\n",
      "(('3', 'CD'), ('2', 'CD'), ('3', 'CD'))\n",
      "(('mani', 'JJ'), ('peopl', 'NNS'), ('quora', 'VBP'))\n",
      "(('best', 'JJS'), ('book', 'NNS'), ('learn', 'VBP'))\n",
      "(('peopl', 'NNS'), ('look', 'VBP'), ('like', 'IN'))\n",
      "(('world', 'NN'), ('war', 'NN'), ('one', 'CD'))\n",
      "(('much', 'JJ'), ('money', 'NN'), ('make', 'VBP'))\n",
      "(('differ', 'JJ'), ('thing', 'NNS'), ('take', 'VBP'))\n",
      "(('indian', 'JJ'), ('muslim', 'NNS'), ('think', 'VBP'))\n",
      "(('peopl', 'NNS'), ('around', 'IN'), ('world', 'NN'))\n",
      "(('someon', 'NN'), ('ever', 'RB'), ('said', 'VBD'))\n",
      "(('good', 'JJ'), ('medic', 'JJ'), ('colleg', 'NN'))\n",
      "(('think', 'VBP'), ('good', 'JJ'), ('idea', 'NN'))\n",
      "(('help', 'NN'), ('get', 'VB'), ('better', 'JJR'))\n",
      "(('1', 'CD'), ('3', 'CD'), ('1', 'CD'))\n",
      "(('good', 'JJ'), ('busi', 'NN'), ('idea', 'NNS'))\n",
      "(('1', 'CD'), ('year', 'NN'), ('experi', 'NN'))\n",
      "(('best', 'JJS'), ('book', 'NN'), ('prepar', 'NN'))\n",
      "(('3', 'CD'), ('3', 'CD'), ('1', 'CD'))\n",
      "(('first', 'RB'), ('world', 'NN'), ('countri', 'NN'))\n",
      "(('one', 'CD'), ('would', 'MD'), ('choos', 'VB'))\n",
      "(('new', 'JJ'), ('world', 'NN'), ('order', 'NN'))\n",
      "(('2', 'CD'), ('5', 'CD'), ('3', 'CD'))\n",
      "(('best', 'JJS'), ('book', 'NN'), ('learn', 'NN'))\n",
      "(('thing', 'NNS'), ('need', 'VBP'), ('know', 'VBP'))\n",
      "(('way', 'NN'), ('get', 'VB'), ('job', 'NN'))\n",
      "(('would', 'MD'), ('get', 'VB'), ('troubl', 'NN'))\n",
      "(('white', 'JJ'), ('peopl', 'NNS'), ('think', 'VBP'))\n",
      "(('2', 'CD'), ('2', 'CD'), ('4', 'CD'))\n",
      "(('best', 'JJS'), ('way', 'NNS'), ('make', 'VBP'))\n",
      "(('year', 'NN'), ('work', 'NN'), ('experi', 'NN'))\n",
      "(('feel', 'NN'), ('like', 'IN'), ('get', 'NN'))\n",
      "(('black', 'JJ'), ('peopl', 'NNS'), ('feel', 'VBP'))\n",
      "(('engin', 'NN'), ('get', 'VB'), ('job', 'NN'))\n",
      "(('mani', 'JJ'), ('peopl', 'NNS'), ('believ', 'VBP'))\n",
      "(('black', 'JJ'), ('white', 'JJ'), ('peopl', 'NNS'))\n",
      "(('mani', 'JJ'), ('year', 'NNS'), ('take', 'VBP'))\n",
      "(('peopl', 'NNS'), ('use', 'VBP'), ('word', 'NN'))\n",
      "(('one', 'CD'), ('thing', 'NN'), ('never', 'RB'))\n",
      "(('love', 'VB'), ('two', 'CD'), ('peopl', 'NNS'))\n",
      "(('mani', 'JJ'), ('peopl', 'NNS'), ('live', 'VBP'))\n",
      "(('would', 'MD'), ('know', 'VB'), ('someon', 'NN'))\n",
      "(('mani', 'JJ'), ('peopl', 'NNS'), ('think', 'VBP'))\n",
      "(('mani', 'JJ'), ('mark', 'NNS'), ('get', 'VBP'))\n",
      "(('peopl', 'NNS'), ('still', 'RB'), ('use', 'VBP'))\n",
      "(('get', 'VB'), ('money', 'NN'), ('back', 'RB'))\n",
      "(('get', 'NN'), ('good', 'JJ'), ('mark', 'NNS'))\n",
      "(('would', 'MD'), ('bad', 'JJ'), ('idea', 'NN'))\n",
      "(('would', 'MD'), ('take', 'VB'), ('make', 'VB'))\n",
      "(('best', 'JJS'), ('place', 'NN'), ('get', 'NN'))\n",
      "(('mani', 'JJ'), ('peopl', 'NNS'), ('go', 'VBP'))\n",
      "(('mani', 'JJ'), ('peopl', 'NNS'), ('still', 'RB'))\n",
      "(('mani', 'JJ'), ('peopl', 'NNS'), ('india', 'VBP'))\n",
      "(('indian', 'JJ'), ('girl', 'NNS'), ('like', 'IN'))\n",
      "(('best', 'JJS'), ('thing', 'NN'), ('ever', 'RB'))\n",
      "(('kind', 'NN'), ('question', 'NNS'), ('would', 'MD'))\n",
      "(('much', 'JJ'), ('time', 'NN'), ('get', 'VB'))\n",
      "(('mani', 'JJ'), ('peopl', 'NNS'), ('get', 'VBP'))\n",
      "(('mani', 'JJ'), ('peopl', 'NNS'), ('world', 'NN'))\n",
      "(('mani', 'JJ'), ('peopl', 'NNS'), ('know', 'VBP'))\n",
      "(('much', 'JJ'), ('time', 'NN'), ('would', 'MD'))\n",
      "(('think', 'VBP'), ('white', 'JJ'), ('peopl', 'NNS'))\n",
      "(('mani', 'JJ'), ('peopl', 'NNS'), ('like', 'IN'))\n",
      "(('get', 'VB'), ('good', 'JJ'), ('rank', 'NN'))\n",
      "(('would', 'MD'), ('world', 'NN'), ('like', 'IN'))\n",
      "(('get', 'VB'), ('good', 'JJ'), ('job', 'NN'))\n",
      "(('get', 'VBP'), ('good', 'JJ'), ('mark', 'NNS'))\n",
      "(('one', 'CD'), ('thing', 'NN'), ('would', 'MD'))\n",
      "(('like', 'IN'), ('black', 'JJ'), ('peopl', 'NNS'))\n",
      "(('would', 'MD'), ('world', 'NN'), ('better', 'RBR'))\n",
      "(('would', 'MD'), ('make', 'VB'), ('good', 'JJ'))\n",
      "(('get', 'VB'), ('good', 'JJ'), ('mark', 'NNS'))\n",
      "(('peopl', 'NNS'), ('still', 'RB'), ('think', 'VBP'))\n",
      "(('would', 'MD'), ('histori', 'NN'), ('differ', 'JJ'))\n",
      "(('mani', 'JJ'), ('chines', 'JJ'), ('peopl', 'NNS'))\n",
      "(('student', 'NN'), ('get', 'VB'), ('good', 'JJ'))\n",
      "(('good', 'JJ'), ('way', 'NN'), ('get', 'VB'))\n",
      "(('2017', 'CD'), ('good', 'JJ'), ('time', 'NN'))\n",
      "(('get', 'VB'), ('good', 'JJ'), ('colleg', 'NN'))\n",
      "(('would', 'MD'), ('feel', 'VB'), ('like', 'IN'))\n",
      "(('differ', 'JJ'), ('would', 'MD'), ('world', 'NN'))\n",
      "(('best', 'JJS'), ('time', 'NN'), ('day', 'NN'))\n"
     ]
    }
   ],
   "source": [
    "#all trigrams have very high chi2 scores, so keeping all of them if they make sense seems ok\n",
    "#checking sense\n",
    "for i in scores2[-100:-1]:\n",
    "    print(i[0])\n",
    "# i will keep all of them"
   ]
  },
  {
   "cell_type": "code",
   "execution_count": 794,
   "metadata": {},
   "outputs": [],
   "source": [
    "# trigram final vocabulary\n",
    "voc_trigrams = []\n",
    "for i in scores2:\n",
    "    voc_trigrams.append(i[0])"
   ]
  },
  {
   "cell_type": "code",
   "execution_count": 796,
   "metadata": {},
   "outputs": [],
   "source": [
    "file4 = open('voc_trigrams', 'wb')\n",
    "pickle.dump(voc_trigrams, file4)\n",
    "file4.close()"
   ]
  },
  {
   "cell_type": "code",
   "execution_count": 798,
   "metadata": {},
   "outputs": [],
   "source": [
    "# complete vocabulary\n",
    "voc_complete = []\n",
    "for i in voc_single:\n",
    "    voc_complete.append(i)\n",
    "for i in voc_bigrams:\n",
    "    voc_complete.append(i)\n",
    "for i in voc_trigrams:\n",
    "    voc_complete.append(i)"
   ]
  },
  {
   "cell_type": "code",
   "execution_count": 800,
   "metadata": {},
   "outputs": [
    {
     "data": {
      "text/plain": [
       "19311"
      ]
     },
     "execution_count": 800,
     "metadata": {},
     "output_type": "execute_result"
    }
   ],
   "source": [
    "#19311 features are not really that much\n",
    "len(voc_complete)"
   ]
  },
  {
   "cell_type": "code",
   "execution_count": 801,
   "metadata": {},
   "outputs": [],
   "source": [
    "file5 = open('voc_complete', 'wb')\n",
    "pickle.dump(voc_complete, file5)\n",
    "file5.close()"
   ]
  }
 ],
 "metadata": {
  "kernelspec": {
   "display_name": "Python 3",
   "language": "python",
   "name": "python3"
  },
  "language_info": {
   "codemirror_mode": {
    "name": "ipython",
    "version": 3
   },
   "file_extension": ".py",
   "mimetype": "text/x-python",
   "name": "python",
   "nbconvert_exporter": "python",
   "pygments_lexer": "ipython3",
   "version": "3.7.1"
  }
 },
 "nbformat": 4,
 "nbformat_minor": 2
}
